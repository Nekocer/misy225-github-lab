{
 "cells": [
  {
   "cell_type": "markdown",
   "metadata": {},
   "source": [
    "## Question 1\n",
    "\n",
    "<img width=\"779\" src=\"https://user-images.githubusercontent.com/595772/189801251-8d6f1532-f452-4963-9482-c47707a7a51a.png\">\n",
    "\n",
    "According to the chart above\n",
    "\n",
    "- create a list of top 5 programming languages in 2022 (use their names as elements), name this list `a`\n",
    "- use list slicing to return the following results:\n",
    "    - use positive index to get `C++`\n",
    "    - use negative index to get `C#`\n",
    "    - get the slice `['C', 'C++']`\n",
    "    - get the slice `['Python', 'C++', 'Java']`"
   ]
  },
  {
   "cell_type": "code",
   "execution_count": 10,
   "metadata": {},
   "outputs": [
    {
     "name": "stdout",
     "output_type": "stream",
     "text": [
      "C++\n",
      "C#\n",
      "['C', 'C++']\n",
      "['Python', 'C++', 'Java']\n"
     ]
    }
   ],
   "source": [
    "# Question 1\n",
    "a = ['Python','C','C++','C#','Java']\n",
    "print(a[2]) \n",
    "print(a[-2])\n",
    "print(a[1:3]) \n",
    "print(a[::2])\n",
    "\n",
    "\n"
   ]
  },
  {
   "cell_type": "markdown",
   "metadata": {},
   "source": [
    "## Question 2\n",
    "\n",
    "- use append() to add 2 more languages to the list in question 1 to form the top 7 language list\n",
    "- create another list `b` to include the last two top 10 languages and combine with `a ` to form the top 10 list `c`"
   ]
  },
  {
   "cell_type": "code",
   "execution_count": 11,
   "metadata": {},
   "outputs": [
    {
     "name": "stdout",
     "output_type": "stream",
     "text": [
      "['Python', 'C', 'C++', 'C#', 'Java', 'SQL', 'JavaScript']\n",
      "['Python', 'C', 'C++', 'C#', 'Java', 'SQL', 'JavaScript', 'R', 'HTML', 'TypeScipt']\n"
     ]
    }
   ],
   "source": [
    "# Question 2\n",
    "a.append('SQL')\n",
    "a.append('JavaScript')\n",
    "print(a)\n",
    "b = ['R','HTML','TypeScipt']\n",
    "c = a + b\n",
    "print(c)"
   ]
  },
  {
   "cell_type": "markdown",
   "metadata": {},
   "source": [
    "## Question 3\n",
    "\n",
    "- delete the last 7 languages from the list `c`\n",
    "- change the first three languages by adding the percentage number - use a list of list like `[['Python', 100], ['C', 96.8], ['C++', 88.58]]`\n",
    "- use f-string to print out: `The percentage of C++ is 88.6%`"
   ]
  },
  {
   "cell_type": "code",
   "execution_count": 20,
   "metadata": {},
   "outputs": [
    {
     "name": "stdout",
     "output_type": "stream",
     "text": [
      "The percentage of C++ is 88.6%\n",
      "The percentage of C++ is 88.6%\n"
     ]
    }
   ],
   "source": [
    "# Question 3\n",
    "del c[3:10]\n",
    "c[0] = ['Python', 100]  \n",
    "c[1] = ['C', 96.8]\n",
    "c[2] = ['C++', 88.58]\n",
    "print(f'The percentage of C++ is {round(c[2][1],1)}%')  #The way I found on the Interner\n",
    "print(f'The percentage of C++ is {c[2][1]/100:.1%}')\n",
    "\n",
    "\n"
   ]
  },
  {
   "cell_type": "markdown",
   "metadata": {},
   "source": [
    "## Question 4\n",
    "\n",
    "|   Name   | Gender | VIP   |  Cell Phone        | Home Phone | DaysOfMembership | Gift 1 | Gift 2|\n",
    "|  ---   | --- | ---   |     ---        | --- | --- | --- | ---|\n",
    "|   Jack   | Male | No   |  111-222-3333        | 111-444-5555 | 60 | Apple Watch | MacBook Pro|\n",
    "|   Rose   | Female | Yes   |  222-333-4444        | 222-555-6666 | 120 | Airpods | iPad Pro|\n",
    "\n",
    "According to the table above:\n",
    "\n",
    "- create two dictionaries for each user\n",
    "- cell phone and home phone must be recorded as dictionaries for a key named `phones`\n",
    "- gifts must be stored in a list\n",
    "- use proper data types for different columns\n",
    "- create a list from two users to store the whole table and name it `users`\n",
    "- using `users` list to return the following results: 1. the home phone of Jack, 2. Gift 1 of Rose\n"
   ]
  },
  {
   "cell_type": "code",
   "execution_count": 17,
   "metadata": {},
   "outputs": [
    {
     "name": "stdout",
     "output_type": "stream",
     "text": [
      "{'Name': 'Jack', 'Gender': 'Male', 'VIP': 'NO', 'phones': {'Cell Phone': '111-222-3333', 'Home Phone': '111-444-5555'}, 'DaysOfMembership': 60, 'gifts': ['Apple Watch', 'MacBook Pro']}\n",
      "{'Name': 'Rose', 'Gender': 'Female', 'VIP': 'YES', 'phones': {'Cell Phone': '222-333-4444', 'Home Phone': '222-555-6666'}, 'DaysOfMembership': 120, 'gifts': ['Airpods', 'iPad Pro']}\n",
      "1.the home phone of jack is '111-444-5555'\n",
      "2.gift 1 of Rose is 'Airpods'\n"
     ]
    }
   ],
   "source": [
    "# Question 4\n",
    "person_1 = {\n",
    "    'Name': 'Jack',\n",
    "    'Gender' : 'Male',\n",
    "    'VIP':'NO',\n",
    "    'phones':{'Cell Phone':'111-222-3333','Home Phone':'111-444-5555'},\n",
    "    'DaysOfMembership':60,\n",
    "    'gifts':['Apple Watch','MacBook Pro']\n",
    "    }\n",
    "person_2 = {\n",
    "    'Name': 'Rose',\n",
    "    'Gender' : 'Female',\n",
    "    'VIP':'YES',\n",
    "    'phones':{'Cell Phone':'222-333-4444','Home Phone':'222-555-6666'},\n",
    "    'DaysOfMembership':120,\n",
    "    'gifts':['Airpods','iPad Pro']\n",
    "    }\n",
    "print(person_1)\n",
    "print(person_2)\n",
    "\n",
    "users = [{\n",
    "    'Name': 'Jack',\n",
    "    'Gender' : 'Male',\n",
    "    'VIP':'NO',\n",
    "    'phones':{'Cell Phone':'111-222-3333','Home Phone':'111-444-5555'},\n",
    "    'DaysOfMembership':60,\n",
    "    'gifts':['Apple Watch','MacBook Pro']\n",
    "    },\n",
    "    {\n",
    "    'Name': 'Rose',\n",
    "    'Gender' : 'Female',\n",
    "    'VIP':'YES',\n",
    "    'phones':{'Cell Phone':'222-333-4444','Home Phone':'222-555-6666'},\n",
    "    'DaysOfMembership':120,\n",
    "    'gifts':['Airpods','iPad Pro']\n",
    "    }\n",
    "]\n",
    "print(f\"1.the home phone of jack is '{users[0]['phones']['Home Phone']}'\\n2.gift 1 of Rose is '{users[1]['gifts'][0]}'\")\n",
    "\n"
   ]
  },
  {
   "cell_type": "code",
   "execution_count": null,
   "metadata": {},
   "outputs": [],
   "source": []
  }
 ],
 "metadata": {
  "kernelspec": {
   "display_name": "Python 3.9.13 ('ds')",
   "language": "python",
   "name": "python3"
  },
  "language_info": {
   "codemirror_mode": {
    "name": "ipython",
    "version": 3
   },
   "file_extension": ".py",
   "mimetype": "text/x-python",
   "name": "python",
   "nbconvert_exporter": "python",
   "pygments_lexer": "ipython3",
   "version": "3.9.13"
  },
  "orig_nbformat": 4,
  "vscode": {
   "interpreter": {
    "hash": "c3c4c530d0463c046c0f8463fa4918be02ff2c28031d76cb1c927dcfb52d4f7d"
   }
  }
 },
 "nbformat": 4,
 "nbformat_minor": 2
}
