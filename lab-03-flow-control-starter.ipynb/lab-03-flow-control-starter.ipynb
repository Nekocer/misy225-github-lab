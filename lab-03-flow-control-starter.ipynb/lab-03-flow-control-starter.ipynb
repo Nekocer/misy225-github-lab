{
 "cells": [
  {
   "cell_type": "markdown",
   "metadata": {},
   "source": [
    "## Question 1\n",
    "\n",
    "Use input box to get the numerical grade from the user and print out the letter grade based on the following rules using if statements:\n",
    "\n",
    "- A if grade is >= 90\n",
    "- B if grade is between 80 and 90, [80, 90) 80 included and 90 excluded\n",
    "- C if grade is between 70 and 80, [70, 80) 70 included and 90 excluded\n",
    "- D if grade is lower than 70\n",
    "\n",
    "a sample output is `your grade is 88.5 and letter grade is B`\n"
   ]
  },
  {
   "cell_type": "code",
   "execution_count": 1,
   "metadata": {},
   "outputs": [
    {
     "name": "stdout",
     "output_type": "stream",
     "text": [
      "your grade is 88.5 and letter grade is B\n"
     ]
    }
   ],
   "source": [
    "# simple letter grade calculator\n",
    "\n",
    "a = float(input('input your grade : '))\n",
    "if a >= 90:\n",
    "    print(f'your grade is {a} and letter grade is A')\n",
    "elif a >= 80:\n",
    "    print(f'your grade is {a} and letter grade is B')\n",
    "elif a >= 70:\n",
    "    print(f'your grade is {a} and letter grade is C')\n",
    "else :\n",
    "    print(f'your grade is {a} and letter grade is D')\n",
    "\n"
   ]
  },
  {
   "cell_type": "markdown",
   "metadata": {},
   "source": [
    "## Question 2\n",
    "\n",
    "Use a for loop to iterate over a list of integers from 7 to 28 and only print out the multiples of 7 and 11 and the total number of those multiples.\n",
    "\n",
    "The sample output is shown below:\n",
    "\n",
    "<img width=\"383\" src=\"https://user-images.githubusercontent.com/595772/190893808-9866127c-7166-42fe-9619-2108ef9fd2a5.png\">"
   ]
  },
  {
   "cell_type": "code",
   "execution_count": 4,
   "metadata": {},
   "outputs": [
    {
     "name": "stdout",
     "output_type": "stream",
     "text": [
      "the current number is 7,which is a multiple of 7\n",
      "the current number is 11,which is a multiple of 11\n",
      "the current number is 14,which is a multiple of 7\n",
      "the current number is 21,which is a multiple of 7\n",
      "the current number is 22,which is a multiple of 11\n",
      "the current number is 28,which is a multiple of 7\n",
      "there are 4 multiples of 7 and 2 multiples of 11\n"
     ]
    }
   ],
   "source": [
    "# multiples of 7 and 11\n",
    "a=0\n",
    "b=0\n",
    "for i in range(7,29):\n",
    "    if i % 7 == 0:\n",
    "        a += 1\n",
    "        print(f'the current number is {i},which is a multiple of 7')\n",
    "    if i % 11 == 0:\n",
    "        b += 1\n",
    "        print(f'the current number is {i},which is a multiple of 11')\n",
    "print(f'there are {a} multiples of 7 and {b} multiples of 11')"
   ]
  },
  {
   "cell_type": "markdown",
   "metadata": {},
   "source": [
    "# Question 3\n",
    "\n",
    "Given the provided order data, understand the data structure and use a for loop to calculate the order total (formatted as float number with one decimal).\n",
    "\n",
    "Sample output: `the total for the order is 16.2`"
   ]
  },
  {
   "cell_type": "code",
   "execution_count": 3,
   "metadata": {},
   "outputs": [
    {
     "name": "stdout",
     "output_type": "stream",
     "text": [
      "the total for the order is 16.2\n"
     ]
    }
   ],
   "source": [
    "order_list = [{'name': 'apple', 'price': 1, 'quantity': 3}, {'price': 2.5, 'name': 'kiwi', 'quantity': 3.5}, {'quantity': 2.45, 'price': 1.8, 'name': 'peach'}]\n",
    "\n",
    "sub_total = 0\n",
    "total = 0\n",
    "\n",
    "for i in order_list:\n",
    "    a= i['price']\n",
    "    b= i['quantity']\n",
    "    sub_total = a*b\n",
    "    total += sub_total\n",
    "print(f'the total for the order is {round(total,1)}')\n",
    "\n"
   ]
  }
 ],
 "metadata": {
  "kernelspec": {
   "display_name": "Python 3.9.13 ('ds')",
   "language": "python",
   "name": "python3"
  },
  "language_info": {
   "codemirror_mode": {
    "name": "ipython",
    "version": 3
   },
   "file_extension": ".py",
   "mimetype": "text/x-python",
   "name": "python",
   "nbconvert_exporter": "python",
   "pygments_lexer": "ipython3",
   "version": "3.9.13"
  },
  "orig_nbformat": 4,
  "vscode": {
   "interpreter": {
    "hash": "c3c4c530d0463c046c0f8463fa4918be02ff2c28031d76cb1c927dcfb52d4f7d"
   }
  }
 },
 "nbformat": 4,
 "nbformat_minor": 2
}
