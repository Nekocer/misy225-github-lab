{
 "cells": [
  {
   "cell_type": "markdown",
   "metadata": {},
   "source": [
    "In the following cell, implement a simple game rental program:\n",
    "\n",
    "- two prices: newly released games $1.25 per day, old games $0.75 per day\n",
    "- use multiple input boxes to ask the users how many new and how many old games they want to rent and for how long\n",
    "- based on the input, calculate the total charge\n",
    "- use f-strings and escape character to print the result out as follows (total charge must be formatted as a float number with one decimal):\n",
    "\n",
    "<img width=\"352\" src=\"https://user-images.githubusercontent.com/595772/188787724-bca683b4-751e-4da0-b236-c532980b9f0c.png\">\n",
    "\n",
    " "
   ]
  },
  {
   "cell_type": "code",
   "execution_count": 25,
   "metadata": {},
   "outputs": [
    {
     "name": "stdout",
     "output_type": "stream",
     "text": [
      "The following is the order summary:\n",
      "new game's daily rate is $1.25 \n",
      "# of new games : 4 and total rental days: 13 \n",
      "old game's daily rate is $0.75 \n",
      "# of old games :3 and total rental days: 22 \n",
      "--------------------\n",
      "The total charge is $114.5\n"
     ]
    }
   ],
   "source": [
    "# initialize price variables\n",
    "# ask user for inputs\n",
    "a = int(input('How many new games'))\n",
    "b = int(input('Total rental days of new games'))\n",
    "c = int(input('How many old games'))\n",
    "d = int(input('Total rental days of old games'))\n",
    "# calculate the total\n",
    "# print the result\n",
    "print(f\"The following is the order summary:\\nnew game\\'s daily rate is $1.25 \\n# of new games : {a} and total rental days: {b} \\nold game\\'s daily rate is $0.75 \\n# of old games :{c} and total rental days: {d} \\n{'-'*20}\\nThe total charge is ${1.25*a*b + 0.75*c*d}\")"
   ]
  }
 ],
 "metadata": {
  "kernelspec": {
   "display_name": "Python 3.9.13",
   "language": "python",
   "name": "python3"
  },
  "language_info": {
   "codemirror_mode": {
    "name": "ipython",
    "version": 3
   },
   "file_extension": ".py",
   "mimetype": "text/x-python",
   "name": "python",
   "nbconvert_exporter": "python",
   "pygments_lexer": "ipython3",
   "version": "3.9.13"
  },
  "orig_nbformat": 4,
  "vscode": {
   "interpreter": {
    "hash": "c3c4c530d0463c046c0f8463fa4918be02ff2c28031d76cb1c927dcfb52d4f7d"
   }
  }
 },
 "nbformat": 4,
 "nbformat_minor": 2
}
